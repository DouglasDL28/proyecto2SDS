{
 "cells": [
  {
   "cell_type": "code",
   "execution_count": 2,
   "id": "f341f4a0",
   "metadata": {},
   "outputs": [],
   "source": [
    "import pandas as pd\n",
    "import matplotlib.pyplot as plt\n",
    "from sklearn.linear_model import LogisticRegression\n",
    "from sklearn.ensemble import RandomForestClassifier\n",
    "from sklearn.metrics import accuracy_score, f1_score, roc_auc_score, roc_curve, precision_score, recall_score, roc_curve\n",
    "from sklearn.model_selection import train_test_split, cross_val_score"
   ]
  },
  {
   "cell_type": "code",
   "execution_count": 3,
   "id": "f00a64f5",
   "metadata": {},
   "outputs": [],
   "source": [
    "df = pd.read_csv('datasets/final_train.csv')"
   ]
  },
  {
   "cell_type": "code",
   "execution_count": 4,
   "id": "714a8406",
   "metadata": {},
   "outputs": [],
   "source": [
    "df = df.drop([\"Unnamed: 0\"], axis=1)"
   ]
  },
  {
   "cell_type": "code",
   "execution_count": 5,
   "id": "9e45dfef",
   "metadata": {},
   "outputs": [],
   "source": [
    "X = df.drop([\"HasDetections\"], axis = 1)\n",
    "y = df[\"HasDetections\"]"
   ]
  },
  {
   "cell_type": "code",
   "execution_count": 6,
   "id": "8cc338a4",
   "metadata": {},
   "outputs": [],
   "source": [
    "def print_results(y_test, y_pred):\n",
    "    accuracy = accuracy_score(y_test, y_pred)\n",
    "    precision = precision_score(y_test, y_pred)\n",
    "    recall = recall_score(y_test, y_pred)\n",
    "    f1 = f1_score(y_test, y_pred)\n",
    "    auc_score = roc_auc_score(y_test, y_pred)\n",
    "    print(\"Accuracy: \", accuracy)\n",
    "    print(\"Precision: \", precision)\n",
    "    print(\"Recall: \", recall)\n",
    "    print(\"F1: \", f1)\n",
    "    print(\"Auc ROC: \", auc_score)\n",
    "    return {\n",
    "        \"accuracy\": accuracy,\n",
    "        \"precision\": accuracy,\n",
    "        \"recall\": recall,\n",
    "        \"f1\": f1,\n",
    "        \"auc_score\": auc_score,\n",
    "    }"
   ]
  },
  {
   "cell_type": "code",
   "execution_count": 7,
   "id": "a63d2311",
   "metadata": {},
   "outputs": [],
   "source": [
    "def plot_roc_curve(clf, X_test, y_test):\n",
    "    #define metrics\n",
    "    y_pred_proba = clf.predict_proba(X_test)[::,1]\n",
    "    fpr, tpr, _ = roc_curve(y_test,  y_pred_proba)\n",
    "    #create ROC curve\n",
    "    plt.plot(fpr,tpr)\n",
    "    plt.ylabel('True Positive Rate')\n",
    "    plt.xlabel('False Positive Rate')\n",
    "    plt.show()"
   ]
  },
  {
   "cell_type": "markdown",
   "id": "376c8e9d",
   "metadata": {},
   "source": [
    "## Train test split"
   ]
  },
  {
   "cell_type": "code",
   "execution_count": 8,
   "id": "35089386",
   "metadata": {},
   "outputs": [],
   "source": [
    "X_train, X_test, y_train, y_test = train_test_split(X, y, test_size=0.3,random_state=22)"
   ]
  },
  {
   "cell_type": "markdown",
   "id": "aa6308d2",
   "metadata": {},
   "source": [
    "# Random Forest"
   ]
  },
  {
   "cell_type": "code",
   "execution_count": 9,
   "id": "d048dcd8",
   "metadata": {},
   "outputs": [],
   "source": [
    "rf_clf = RandomForestClassifier(n_estimators = 70, random_state = 122)"
   ]
  },
  {
   "cell_type": "code",
   "execution_count": 10,
   "id": "fc7fe7ca",
   "metadata": {},
   "outputs": [
    {
     "data": {
      "text/html": [
       "<div>\n",
       "<style scoped>\n",
       "    .dataframe tbody tr th:only-of-type {\n",
       "        vertical-align: middle;\n",
       "    }\n",
       "\n",
       "    .dataframe tbody tr th {\n",
       "        vertical-align: top;\n",
       "    }\n",
       "\n",
       "    .dataframe thead th {\n",
       "        text-align: right;\n",
       "    }\n",
       "</style>\n",
       "<table border=\"1\" class=\"dataframe\">\n",
       "  <thead>\n",
       "    <tr style=\"text-align: right;\">\n",
       "      <th></th>\n",
       "      <th>IsBeta</th>\n",
       "      <th>IsSxsPassiveMode</th>\n",
       "      <th>AVProductsInstalled</th>\n",
       "      <th>HasTpm</th>\n",
       "      <th>CountryIdentifier</th>\n",
       "      <th>CityIdentifier</th>\n",
       "      <th>GeoNameIdentifier</th>\n",
       "      <th>LocaleEnglishNameIdentifier</th>\n",
       "      <th>OsBuild</th>\n",
       "      <th>OsSuite</th>\n",
       "      <th>...</th>\n",
       "      <th>Census_OSWUAutoUpdateOptionsName_FullAuto</th>\n",
       "      <th>Census_OSWUAutoUpdateOptionsName_Notify</th>\n",
       "      <th>Census_OSWUAutoUpdateOptionsName_Off</th>\n",
       "      <th>Census_OSWUAutoUpdateOptionsName_UNKNOWN</th>\n",
       "      <th>Census_ActivationChannel_OEM:DM</th>\n",
       "      <th>Census_ActivationChannel_OEM:NONSLP</th>\n",
       "      <th>Census_ActivationChannel_Retail</th>\n",
       "      <th>Census_ActivationChannel_Retail:TB:Eval</th>\n",
       "      <th>Census_ActivationChannel_Volume:GVLK</th>\n",
       "      <th>Census_ActivationChannel_Volume:MAK</th>\n",
       "    </tr>\n",
       "  </thead>\n",
       "  <tbody>\n",
       "    <tr>\n",
       "      <th>69523</th>\n",
       "      <td>0</td>\n",
       "      <td>0</td>\n",
       "      <td>2.0</td>\n",
       "      <td>1</td>\n",
       "      <td>220</td>\n",
       "      <td>68380.0</td>\n",
       "      <td>237.0</td>\n",
       "      <td>72</td>\n",
       "      <td>16299</td>\n",
       "      <td>768</td>\n",
       "      <td>...</td>\n",
       "      <td>0</td>\n",
       "      <td>0</td>\n",
       "      <td>0</td>\n",
       "      <td>1</td>\n",
       "      <td>0</td>\n",
       "      <td>0</td>\n",
       "      <td>1</td>\n",
       "      <td>0</td>\n",
       "      <td>0</td>\n",
       "      <td>0</td>\n",
       "    </tr>\n",
       "    <tr>\n",
       "      <th>114878</th>\n",
       "      <td>0</td>\n",
       "      <td>0</td>\n",
       "      <td>1.0</td>\n",
       "      <td>1</td>\n",
       "      <td>160</td>\n",
       "      <td>85244.0</td>\n",
       "      <td>204.0</td>\n",
       "      <td>170</td>\n",
       "      <td>17134</td>\n",
       "      <td>768</td>\n",
       "      <td>...</td>\n",
       "      <td>1</td>\n",
       "      <td>0</td>\n",
       "      <td>0</td>\n",
       "      <td>0</td>\n",
       "      <td>0</td>\n",
       "      <td>0</td>\n",
       "      <td>1</td>\n",
       "      <td>0</td>\n",
       "      <td>0</td>\n",
       "      <td>0</td>\n",
       "    </tr>\n",
       "    <tr>\n",
       "      <th>133729</th>\n",
       "      <td>0</td>\n",
       "      <td>1</td>\n",
       "      <td>3.0</td>\n",
       "      <td>1</td>\n",
       "      <td>107</td>\n",
       "      <td>21124.0</td>\n",
       "      <td>138.0</td>\n",
       "      <td>134</td>\n",
       "      <td>17134</td>\n",
       "      <td>256</td>\n",
       "      <td>...</td>\n",
       "      <td>1</td>\n",
       "      <td>0</td>\n",
       "      <td>0</td>\n",
       "      <td>0</td>\n",
       "      <td>0</td>\n",
       "      <td>0</td>\n",
       "      <td>1</td>\n",
       "      <td>0</td>\n",
       "      <td>0</td>\n",
       "      <td>0</td>\n",
       "    </tr>\n",
       "    <tr>\n",
       "      <th>117003</th>\n",
       "      <td>0</td>\n",
       "      <td>0</td>\n",
       "      <td>1.0</td>\n",
       "      <td>0</td>\n",
       "      <td>66</td>\n",
       "      <td>119877.0</td>\n",
       "      <td>89.0</td>\n",
       "      <td>88</td>\n",
       "      <td>7601</td>\n",
       "      <td>768</td>\n",
       "      <td>...</td>\n",
       "      <td>1</td>\n",
       "      <td>0</td>\n",
       "      <td>0</td>\n",
       "      <td>0</td>\n",
       "      <td>0</td>\n",
       "      <td>0</td>\n",
       "      <td>1</td>\n",
       "      <td>0</td>\n",
       "      <td>0</td>\n",
       "      <td>0</td>\n",
       "    </tr>\n",
       "    <tr>\n",
       "      <th>16843</th>\n",
       "      <td>0</td>\n",
       "      <td>0</td>\n",
       "      <td>1.0</td>\n",
       "      <td>1</td>\n",
       "      <td>29</td>\n",
       "      <td>56427.0</td>\n",
       "      <td>35.0</td>\n",
       "      <td>171</td>\n",
       "      <td>17134</td>\n",
       "      <td>768</td>\n",
       "      <td>...</td>\n",
       "      <td>1</td>\n",
       "      <td>0</td>\n",
       "      <td>0</td>\n",
       "      <td>0</td>\n",
       "      <td>1</td>\n",
       "      <td>0</td>\n",
       "      <td>0</td>\n",
       "      <td>0</td>\n",
       "      <td>0</td>\n",
       "      <td>0</td>\n",
       "    </tr>\n",
       "    <tr>\n",
       "      <th>...</th>\n",
       "      <td>...</td>\n",
       "      <td>...</td>\n",
       "      <td>...</td>\n",
       "      <td>...</td>\n",
       "      <td>...</td>\n",
       "      <td>...</td>\n",
       "      <td>...</td>\n",
       "      <td>...</td>\n",
       "      <td>...</td>\n",
       "      <td>...</td>\n",
       "      <td>...</td>\n",
       "      <td>...</td>\n",
       "      <td>...</td>\n",
       "      <td>...</td>\n",
       "      <td>...</td>\n",
       "      <td>...</td>\n",
       "      <td>...</td>\n",
       "      <td>...</td>\n",
       "      <td>...</td>\n",
       "      <td>...</td>\n",
       "      <td>...</td>\n",
       "    </tr>\n",
       "    <tr>\n",
       "      <th>81492</th>\n",
       "      <td>0</td>\n",
       "      <td>0</td>\n",
       "      <td>2.0</td>\n",
       "      <td>1</td>\n",
       "      <td>89</td>\n",
       "      <td>142110.0</td>\n",
       "      <td>120.0</td>\n",
       "      <td>118</td>\n",
       "      <td>16299</td>\n",
       "      <td>768</td>\n",
       "      <td>...</td>\n",
       "      <td>0</td>\n",
       "      <td>0</td>\n",
       "      <td>0</td>\n",
       "      <td>1</td>\n",
       "      <td>1</td>\n",
       "      <td>0</td>\n",
       "      <td>0</td>\n",
       "      <td>0</td>\n",
       "      <td>0</td>\n",
       "      <td>0</td>\n",
       "    </tr>\n",
       "    <tr>\n",
       "      <th>20971</th>\n",
       "      <td>0</td>\n",
       "      <td>0</td>\n",
       "      <td>2.0</td>\n",
       "      <td>1</td>\n",
       "      <td>88</td>\n",
       "      <td>2808.0</td>\n",
       "      <td>276.0</td>\n",
       "      <td>74</td>\n",
       "      <td>16299</td>\n",
       "      <td>768</td>\n",
       "      <td>...</td>\n",
       "      <td>0</td>\n",
       "      <td>1</td>\n",
       "      <td>0</td>\n",
       "      <td>0</td>\n",
       "      <td>0</td>\n",
       "      <td>0</td>\n",
       "      <td>1</td>\n",
       "      <td>0</td>\n",
       "      <td>0</td>\n",
       "      <td>0</td>\n",
       "    </tr>\n",
       "    <tr>\n",
       "      <th>120166</th>\n",
       "      <td>0</td>\n",
       "      <td>0</td>\n",
       "      <td>1.0</td>\n",
       "      <td>1</td>\n",
       "      <td>9</td>\n",
       "      <td>20805.0</td>\n",
       "      <td>10.0</td>\n",
       "      <td>214</td>\n",
       "      <td>17134</td>\n",
       "      <td>256</td>\n",
       "      <td>...</td>\n",
       "      <td>1</td>\n",
       "      <td>0</td>\n",
       "      <td>0</td>\n",
       "      <td>0</td>\n",
       "      <td>1</td>\n",
       "      <td>0</td>\n",
       "      <td>0</td>\n",
       "      <td>0</td>\n",
       "      <td>0</td>\n",
       "      <td>0</td>\n",
       "    </tr>\n",
       "    <tr>\n",
       "      <th>24932</th>\n",
       "      <td>0</td>\n",
       "      <td>0</td>\n",
       "      <td>1.0</td>\n",
       "      <td>1</td>\n",
       "      <td>21</td>\n",
       "      <td>153669.0</td>\n",
       "      <td>39.0</td>\n",
       "      <td>34</td>\n",
       "      <td>17134</td>\n",
       "      <td>256</td>\n",
       "      <td>...</td>\n",
       "      <td>0</td>\n",
       "      <td>1</td>\n",
       "      <td>0</td>\n",
       "      <td>0</td>\n",
       "      <td>0</td>\n",
       "      <td>0</td>\n",
       "      <td>1</td>\n",
       "      <td>0</td>\n",
       "      <td>0</td>\n",
       "      <td>0</td>\n",
       "    </tr>\n",
       "    <tr>\n",
       "      <th>109429</th>\n",
       "      <td>0</td>\n",
       "      <td>0</td>\n",
       "      <td>1.0</td>\n",
       "      <td>1</td>\n",
       "      <td>91</td>\n",
       "      <td>110905.0</td>\n",
       "      <td>125.0</td>\n",
       "      <td>113</td>\n",
       "      <td>17134</td>\n",
       "      <td>256</td>\n",
       "      <td>...</td>\n",
       "      <td>1</td>\n",
       "      <td>0</td>\n",
       "      <td>0</td>\n",
       "      <td>0</td>\n",
       "      <td>0</td>\n",
       "      <td>0</td>\n",
       "      <td>0</td>\n",
       "      <td>0</td>\n",
       "      <td>1</td>\n",
       "      <td>0</td>\n",
       "    </tr>\n",
       "  </tbody>\n",
       "</table>\n",
       "<p>97578 rows × 243 columns</p>\n",
       "</div>"
      ],
      "text/plain": [
       "        IsBeta  IsSxsPassiveMode  AVProductsInstalled  HasTpm  \\\n",
       "69523        0                 0                  2.0       1   \n",
       "114878       0                 0                  1.0       1   \n",
       "133729       0                 1                  3.0       1   \n",
       "117003       0                 0                  1.0       0   \n",
       "16843        0                 0                  1.0       1   \n",
       "...        ...               ...                  ...     ...   \n",
       "81492        0                 0                  2.0       1   \n",
       "20971        0                 0                  2.0       1   \n",
       "120166       0                 0                  1.0       1   \n",
       "24932        0                 0                  1.0       1   \n",
       "109429       0                 0                  1.0       1   \n",
       "\n",
       "        CountryIdentifier  CityIdentifier  GeoNameIdentifier  \\\n",
       "69523                 220         68380.0              237.0   \n",
       "114878                160         85244.0              204.0   \n",
       "133729                107         21124.0              138.0   \n",
       "117003                 66        119877.0               89.0   \n",
       "16843                  29         56427.0               35.0   \n",
       "...                   ...             ...                ...   \n",
       "81492                  89        142110.0              120.0   \n",
       "20971                  88          2808.0              276.0   \n",
       "120166                  9         20805.0               10.0   \n",
       "24932                  21        153669.0               39.0   \n",
       "109429                 91        110905.0              125.0   \n",
       "\n",
       "        LocaleEnglishNameIdentifier  OsBuild  OsSuite  ...  \\\n",
       "69523                            72    16299      768  ...   \n",
       "114878                          170    17134      768  ...   \n",
       "133729                          134    17134      256  ...   \n",
       "117003                           88     7601      768  ...   \n",
       "16843                           171    17134      768  ...   \n",
       "...                             ...      ...      ...  ...   \n",
       "81492                           118    16299      768  ...   \n",
       "20971                            74    16299      768  ...   \n",
       "120166                          214    17134      256  ...   \n",
       "24932                            34    17134      256  ...   \n",
       "109429                          113    17134      256  ...   \n",
       "\n",
       "        Census_OSWUAutoUpdateOptionsName_FullAuto  \\\n",
       "69523                                           0   \n",
       "114878                                          1   \n",
       "133729                                          1   \n",
       "117003                                          1   \n",
       "16843                                           1   \n",
       "...                                           ...   \n",
       "81492                                           0   \n",
       "20971                                           0   \n",
       "120166                                          1   \n",
       "24932                                           0   \n",
       "109429                                          1   \n",
       "\n",
       "        Census_OSWUAutoUpdateOptionsName_Notify  \\\n",
       "69523                                         0   \n",
       "114878                                        0   \n",
       "133729                                        0   \n",
       "117003                                        0   \n",
       "16843                                         0   \n",
       "...                                         ...   \n",
       "81492                                         0   \n",
       "20971                                         1   \n",
       "120166                                        0   \n",
       "24932                                         1   \n",
       "109429                                        0   \n",
       "\n",
       "        Census_OSWUAutoUpdateOptionsName_Off  \\\n",
       "69523                                      0   \n",
       "114878                                     0   \n",
       "133729                                     0   \n",
       "117003                                     0   \n",
       "16843                                      0   \n",
       "...                                      ...   \n",
       "81492                                      0   \n",
       "20971                                      0   \n",
       "120166                                     0   \n",
       "24932                                      0   \n",
       "109429                                     0   \n",
       "\n",
       "        Census_OSWUAutoUpdateOptionsName_UNKNOWN  \\\n",
       "69523                                          1   \n",
       "114878                                         0   \n",
       "133729                                         0   \n",
       "117003                                         0   \n",
       "16843                                          0   \n",
       "...                                          ...   \n",
       "81492                                          1   \n",
       "20971                                          0   \n",
       "120166                                         0   \n",
       "24932                                          0   \n",
       "109429                                         0   \n",
       "\n",
       "        Census_ActivationChannel_OEM:DM  Census_ActivationChannel_OEM:NONSLP  \\\n",
       "69523                                 0                                    0   \n",
       "114878                                0                                    0   \n",
       "133729                                0                                    0   \n",
       "117003                                0                                    0   \n",
       "16843                                 1                                    0   \n",
       "...                                 ...                                  ...   \n",
       "81492                                 1                                    0   \n",
       "20971                                 0                                    0   \n",
       "120166                                1                                    0   \n",
       "24932                                 0                                    0   \n",
       "109429                                0                                    0   \n",
       "\n",
       "        Census_ActivationChannel_Retail  \\\n",
       "69523                                 1   \n",
       "114878                                1   \n",
       "133729                                1   \n",
       "117003                                1   \n",
       "16843                                 0   \n",
       "...                                 ...   \n",
       "81492                                 0   \n",
       "20971                                 1   \n",
       "120166                                0   \n",
       "24932                                 1   \n",
       "109429                                0   \n",
       "\n",
       "        Census_ActivationChannel_Retail:TB:Eval  \\\n",
       "69523                                         0   \n",
       "114878                                        0   \n",
       "133729                                        0   \n",
       "117003                                        0   \n",
       "16843                                         0   \n",
       "...                                         ...   \n",
       "81492                                         0   \n",
       "20971                                         0   \n",
       "120166                                        0   \n",
       "24932                                         0   \n",
       "109429                                        0   \n",
       "\n",
       "        Census_ActivationChannel_Volume:GVLK  \\\n",
       "69523                                      0   \n",
       "114878                                     0   \n",
       "133729                                     0   \n",
       "117003                                     0   \n",
       "16843                                      0   \n",
       "...                                      ...   \n",
       "81492                                      0   \n",
       "20971                                      0   \n",
       "120166                                     0   \n",
       "24932                                      0   \n",
       "109429                                     1   \n",
       "\n",
       "        Census_ActivationChannel_Volume:MAK  \n",
       "69523                                     0  \n",
       "114878                                    0  \n",
       "133729                                    0  \n",
       "117003                                    0  \n",
       "16843                                     0  \n",
       "...                                     ...  \n",
       "81492                                     0  \n",
       "20971                                     0  \n",
       "120166                                    0  \n",
       "24932                                     0  \n",
       "109429                                    0  \n",
       "\n",
       "[97578 rows x 243 columns]"
      ]
     },
     "execution_count": 10,
     "metadata": {},
     "output_type": "execute_result"
    }
   ],
   "source": [
    "X_train"
   ]
  },
  {
   "cell_type": "code",
   "execution_count": 11,
   "id": "ac6b1083",
   "metadata": {},
   "outputs": [],
   "source": [
    "clf = rf_clf.fit(X_train, y_train)"
   ]
  },
  {
   "cell_type": "code",
   "execution_count": 12,
   "id": "1d98f98b",
   "metadata": {},
   "outputs": [],
   "source": [
    "y_pred = clf.predict(X_test)"
   ]
  },
  {
   "cell_type": "code",
   "execution_count": 13,
   "id": "b3ef463a",
   "metadata": {
    "scrolled": true
   },
   "outputs": [
    {
     "name": "stdout",
     "output_type": "stream",
     "text": [
      "Accuracy:  0.5932329029172645\n",
      "Precision:  0.5943207832058838\n",
      "Recall:  0.5842750430951925\n",
      "F1:  0.5892551008088857\n",
      "Auc ROC:  0.5932217783301716\n"
     ]
    }
   ],
   "source": [
    "random_forest_results = print_results(y_test, y_pred)"
   ]
  },
  {
   "cell_type": "markdown",
   "id": "12ccda12",
   "metadata": {},
   "source": [
    "### K Cross Validation"
   ]
  },
  {
   "cell_type": "code",
   "execution_count": 14,
   "id": "b4c70fca",
   "metadata": {},
   "outputs": [],
   "source": [
    "random_forest_scores = cross_val_score(clf, X, y, cv=10)"
   ]
  },
  {
   "cell_type": "code",
   "execution_count": 15,
   "id": "21b94f3a",
   "metadata": {
    "scrolled": false
   },
   "outputs": [
    {
     "data": {
      "text/plain": [
       "array([0.59368723, 0.5972023 , 0.59533716, 0.60200861, 0.58816356,\n",
       "       0.60086083, 0.59956958, 0.59756098, 0.58956884, 0.60599756])"
      ]
     },
     "execution_count": 15,
     "metadata": {},
     "output_type": "execute_result"
    }
   ],
   "source": [
    "random_forest_scores"
   ]
  },
  {
   "cell_type": "markdown",
   "id": "7ad05992",
   "metadata": {},
   "source": [
    "### ROC Curve"
   ]
  },
  {
   "cell_type": "code",
   "execution_count": 16,
   "id": "cbe680de",
   "metadata": {},
   "outputs": [
    {
     "data": {
      "image/png": "[encoded data removed]",
      "text/plain": [
       "<Figure size 432x288 with 1 Axes>"
      ]
     },
     "metadata": {
      "needs_background": "light"
     },
     "output_type": "display_data"
    }
   ],
   "source": [
    "plot_roc_curve(clf, X_test, y_test)"
   ]
  },
  {
   "cell_type": "markdown",
   "id": "81705a60",
   "metadata": {},
   "source": [
    "# Logistic Regression"
   ]
  },
  {
   "cell_type": "code",
   "execution_count": 17,
   "id": "7d96f136",
   "metadata": {},
   "outputs": [],
   "source": [
    "logistic = LogisticRegression(random_state = 12)"
   ]
  },
  {
   "cell_type": "code",
   "execution_count": 18,
   "id": "fe792cbc",
   "metadata": {},
   "outputs": [],
   "source": [
    "l_clf = logistic.fit(X_train, y_train)"
   ]
  },
  {
   "cell_type": "code",
   "execution_count": 19,
   "id": "26545c62",
   "metadata": {},
   "outputs": [],
   "source": [
    "y_pred_log = l_clf.predict(X_test)"
   ]
  },
  {
   "cell_type": "code",
   "execution_count": 20,
   "id": "e98d81a3",
   "metadata": {},
   "outputs": [
    {
     "name": "stdout",
     "output_type": "stream",
     "text": [
      "Accuracy:  0.4993782879005261\n",
      "Precision:  0.4993782879005261\n",
      "Recall:  1.0\n",
      "F1:  0.666113804541975\n",
      "Auc ROC:  0.5\n"
     ]
    }
   ],
   "source": [
    "logistic_results = print_results(y_test, y_pred_log)"
   ]
  },
  {
   "cell_type": "markdown",
   "id": "63d41937",
   "metadata": {},
   "source": [
    "### K Cross Validation"
   ]
  },
  {
   "cell_type": "code",
   "execution_count": 21,
   "id": "023cc28d",
   "metadata": {},
   "outputs": [],
   "source": [
    "logistic_scores = cross_val_score(l_clf, X, y, cv=10)"
   ]
  },
  {
   "cell_type": "code",
   "execution_count": 22,
   "id": "ec20dbeb",
   "metadata": {},
   "outputs": [
    {
     "data": {
      "text/plain": [
       "array([0.5       , 0.5       , 0.5       , 0.5       , 0.5       ,\n",
       "       0.5       , 0.5       , 0.5       , 0.49996413, 0.50003587])"
      ]
     },
     "execution_count": 22,
     "metadata": {},
     "output_type": "execute_result"
    }
   ],
   "source": [
    "logistic_scores"
   ]
  },
  {
   "cell_type": "markdown",
   "id": "7c6ba652",
   "metadata": {},
   "source": [
    "### ROC CURVE"
   ]
  },
  {
   "cell_type": "code",
   "execution_count": 23,
   "id": "6ff644ab",
   "metadata": {},
   "outputs": [
    {
     "data": {
      "image/png": "[encoded data removed]",
      "text/plain": [
       "<Figure size 432x288 with 1 Axes>"
      ]
     },
     "metadata": {
      "needs_background": "light"
     },
     "output_type": "display_data"
    }
   ],
   "source": [
    "plot_roc_curve(l_clf, X_test, y_test)"
   ]
  },
  {
   "cell_type": "code",
   "execution_count": null,
   "id": "d23f1c49",
   "metadata": {},
   "outputs": [],
   "source": []
  }
 ],
 "metadata": {
  "kernelspec": {
   "display_name": "Python 3 (ipykernel)",
   "language": "python",
   "name": "python3"
  },
  "language_info": {
   "codemirror_mode": {
    "name": "ipython",
    "version": 3
   },
   "file_extension": ".py",
   "mimetype": "text/x-python",
   "name": "python",
   "nbconvert_exporter": "python",
   "pygments_lexer": "ipython3",
   "version": "3.7.13"
  }
 },
 "nbformat": 4,
 "nbformat_minor": 5
}
